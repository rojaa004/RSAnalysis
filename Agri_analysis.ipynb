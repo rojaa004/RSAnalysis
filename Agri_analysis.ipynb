{
 "cells": [
  {
   "cell_type": "code",
   "execution_count": 1,
   "id": "6987a7da",
   "metadata": {},
   "outputs": [
    {
     "name": "stdout",
     "output_type": "stream",
     "text": [
      "Requirement already satisfied: fastapi in c:\\users\\rojaa\\anaconda3\\envs\\gee\\lib\\site-packages (0.116.1)\n",
      "Requirement already satisfied: starlette<0.48.0,>=0.40.0 in c:\\users\\rojaa\\anaconda3\\envs\\gee\\lib\\site-packages (from fastapi) (0.47.2)\n",
      "Requirement already satisfied: pydantic!=1.8,!=1.8.1,!=2.0.0,!=2.0.1,!=2.1.0,<3.0.0,>=1.7.4 in c:\\users\\rojaa\\anaconda3\\envs\\gee\\lib\\site-packages (from fastapi) (2.11.7)\n",
      "Requirement already satisfied: typing-extensions>=4.8.0 in c:\\users\\rojaa\\anaconda3\\envs\\gee\\lib\\site-packages (from fastapi) (4.14.1)\n",
      "Requirement already satisfied: annotated-types>=0.6.0 in c:\\users\\rojaa\\anaconda3\\envs\\gee\\lib\\site-packages (from pydantic!=1.8,!=1.8.1,!=2.0.0,!=2.0.1,!=2.1.0,<3.0.0,>=1.7.4->fastapi) (0.7.0)\n",
      "Requirement already satisfied: pydantic-core==2.33.2 in c:\\users\\rojaa\\anaconda3\\envs\\gee\\lib\\site-packages (from pydantic!=1.8,!=1.8.1,!=2.0.0,!=2.0.1,!=2.1.0,<3.0.0,>=1.7.4->fastapi) (2.33.2)\n",
      "Requirement already satisfied: typing-inspection>=0.4.0 in c:\\users\\rojaa\\anaconda3\\envs\\gee\\lib\\site-packages (from pydantic!=1.8,!=1.8.1,!=2.0.0,!=2.0.1,!=2.1.0,<3.0.0,>=1.7.4->fastapi) (0.4.1)\n",
      "Requirement already satisfied: anyio<5,>=3.6.2 in c:\\users\\rojaa\\anaconda3\\envs\\gee\\lib\\site-packages (from starlette<0.48.0,>=0.40.0->fastapi) (4.3.0)\n",
      "Requirement already satisfied: idna>=2.8 in c:\\users\\rojaa\\anaconda3\\envs\\gee\\lib\\site-packages (from anyio<5,>=3.6.2->starlette<0.48.0,>=0.40.0->fastapi) (3.6)\n",
      "Requirement already satisfied: sniffio>=1.1 in c:\\users\\rojaa\\anaconda3\\envs\\gee\\lib\\site-packages (from anyio<5,>=3.6.2->starlette<0.48.0,>=0.40.0->fastapi) (1.3.1)\n",
      "Note: you may need to restart the kernel to use updated packages.\n",
      "Requirement already satisfied: pydantic in c:\\users\\rojaa\\anaconda3\\envs\\gee\\lib\\site-packages (2.11.7)Note: you may need to restart the kernel to use updated packages.\n",
      "\n",
      "Requirement already satisfied: annotated-types>=0.6.0 in c:\\users\\rojaa\\anaconda3\\envs\\gee\\lib\\site-packages (from pydantic) (0.7.0)\n",
      "Requirement already satisfied: pydantic-core==2.33.2 in c:\\users\\rojaa\\anaconda3\\envs\\gee\\lib\\site-packages (from pydantic) (2.33.2)\n",
      "Requirement already satisfied: typing-extensions>=4.12.2 in c:\\users\\rojaa\\anaconda3\\envs\\gee\\lib\\site-packages (from pydantic) (4.14.1)\n",
      "Requirement already satisfied: typing-inspection>=0.4.0 in c:\\users\\rojaa\\anaconda3\\envs\\gee\\lib\\site-packages (from pydantic) (0.4.1)\n"
     ]
    },
    {
     "ename": "NameError",
     "evalue": "name 'Body' is not defined",
     "output_type": "error",
     "traceback": [
      "\u001b[1;31m---------------------------------------------------------------------------\u001b[0m",
      "\u001b[1;31mNameError\u001b[0m                                 Traceback (most recent call last)",
      "Cell \u001b[1;32mIn[1], line 32\u001b[0m\n\u001b[0;32m     27\u001b[0m \u001b[38;5;129m@app\u001b[39m\u001b[38;5;241m.\u001b[39mget(\u001b[38;5;124m\"\u001b[39m\u001b[38;5;124m/\u001b[39m\u001b[38;5;124m\"\u001b[39m, response_class\u001b[38;5;241m=\u001b[39mHTMLResponse)\n\u001b[0;32m     28\u001b[0m \u001b[38;5;28;01mdef\u001b[39;00m \u001b[38;5;21mread_root\u001b[39m(request: Request):\n\u001b[0;32m     29\u001b[0m     \u001b[38;5;28;01mreturn\u001b[39;00m templates\u001b[38;5;241m.\u001b[39mTemplateResponse(\u001b[38;5;124m\"\u001b[39m\u001b[38;5;124mindex.html\u001b[39m\u001b[38;5;124m\"\u001b[39m, {\u001b[38;5;124m\"\u001b[39m\u001b[38;5;124mrequest\u001b[39m\u001b[38;5;124m\"\u001b[39m: request})\n\u001b[0;32m     31\u001b[0m \u001b[38;5;129m@app\u001b[39m\u001b[38;5;241m.\u001b[39mpost(\u001b[38;5;124m\"\u001b[39m\u001b[38;5;124m/process/\u001b[39m\u001b[38;5;124m\"\u001b[39m)\n\u001b[1;32m---> 32\u001b[0m \u001b[38;5;28;01mdef\u001b[39;00m \u001b[38;5;21mprocess_data\u001b[39m(input_data: InputModel \u001b[38;5;241m=\u001b[39m \u001b[43mBody\u001b[49m(\u001b[38;5;241m.\u001b[39m\u001b[38;5;241m.\u001b[39m\u001b[38;5;241m.\u001b[39m)):\n\u001b[0;32m     33\u001b[0m     \u001b[38;5;66;03m# Example response, replace with your processing logic\u001b[39;00m\n\u001b[0;32m     34\u001b[0m     \u001b[38;5;28;01mreturn\u001b[39;00m {\n\u001b[0;32m     35\u001b[0m         \u001b[38;5;124m\"\u001b[39m\u001b[38;5;124mreceived_aoi_type\u001b[39m\u001b[38;5;124m\"\u001b[39m: input_data\u001b[38;5;241m.\u001b[39maoi\u001b[38;5;241m.\u001b[39mtype,\n\u001b[0;32m     36\u001b[0m         \u001b[38;5;124m\"\u001b[39m\u001b[38;5;124mdate_range\u001b[39m\u001b[38;5;124m\"\u001b[39m: [input_data\u001b[38;5;241m.\u001b[39mstart_date, input_data\u001b[38;5;241m.\u001b[39mend_date],\n\u001b[0;32m     37\u001b[0m         \u001b[38;5;124m\"\u001b[39m\u001b[38;5;124mdatasets\u001b[39m\u001b[38;5;124m\"\u001b[39m: input_data\u001b[38;5;241m.\u001b[39mdatasets,\n\u001b[0;32m     38\u001b[0m         \u001b[38;5;124m\"\u001b[39m\u001b[38;5;124mmessage\u001b[39m\u001b[38;5;124m\"\u001b[39m: \u001b[38;5;124m\"\u001b[39m\u001b[38;5;124mInput received successfully.\u001b[39m\u001b[38;5;124m\"\u001b[39m\n\u001b[0;32m     39\u001b[0m     }\n",
      "\u001b[1;31mNameError\u001b[0m: name 'Body' is not defined"
     ]
    }
   ],
   "source": [
    "%pip install fastapi\n",
    "%pip install pydantic\n",
    "\n",
    "from fastapi import FastAPI, Request\n",
    "from fastapi.responses import HTMLResponse\n",
    "from fastapi.templating import Jinja2Templates\n",
    "from fastapi.staticfiles import StaticFiles\n",
    "from pydantic import BaseModel, Field\n",
    "from typing import List, Dict, Any\n",
    "from datetime import date\n",
    "\n",
    "app = FastAPI()\n",
    "\n",
    "app.mount(\"/static\", StaticFiles(directory=\"static\"), name=\"static\")\n",
    "templates = Jinja2Templates(directory=\"templates\")\n",
    "\n",
    "class AOIModel(BaseModel):\n",
    "    type: str = Field(..., example=\"FeatureCollection\")\n",
    "    features: List[Dict[str, Any]]\n",
    "\n",
    "class InputModel(BaseModel):\n",
    "    aoi: AOIModel\n",
    "    start_date: date\n",
    "    end_date: date\n",
    "    datasets: List[str]\n",
    "\n",
    "@app.get(\"/\", response_class=HTMLResponse)\n",
    "def read_root(request: Request):\n",
    "    return templates.TemplateResponse(\"index.html\", {\"request\": request})\n",
    "\n",
    "@app.post(\"/process/\")\n",
    "def process_data(input_data: InputModel = Body(...)):\n",
    "    # Example response, replace with your processing logic\n",
    "    return {\n",
    "        \"received_aoi_type\": input_data.aoi.type,\n",
    "        \"date_range\": [input_data.start_date, input_data.end_date],\n",
    "        \"datasets\": input_data.datasets,\n",
    "        \"message\": \"Input received successfully.\"\n",
    "    }"
   ]
  }
 ],
 "metadata": {
  "kernelspec": {
   "display_name": "GEE",
   "language": "python",
   "name": "python3"
  },
  "language_info": {
   "codemirror_mode": {
    "name": "ipython",
    "version": 3
   },
   "file_extension": ".py",
   "mimetype": "text/x-python",
   "name": "python",
   "nbconvert_exporter": "python",
   "pygments_lexer": "ipython3",
   "version": "3.12.2"
  }
 },
 "nbformat": 4,
 "nbformat_minor": 5
}
